{
 "cells": [
  {
   "cell_type": "markdown",
   "id": "24f8f7f4",
   "metadata": {},
   "source": [
    "# Assignment 2 machine-learning\n",
    "\n",
    "Predict stock market price for TESLA. I want you to make a prediction algorithm which predicts the price of this stock on a specific date. Input will be date and output should be price of that stock (close value in the data file). You should also show the prediction percentage score. Data file: TESLA.csv For updated csv file, please download the data from: https://finance.yahoo.com/quote/TSLA/history?p=TSLA"
   ]
  },
  {
   "cell_type": "code",
   "execution_count": 1,
   "id": "e52df15d",
   "metadata": {},
   "outputs": [
    {
     "ename": "ModuleNotFoundError",
     "evalue": "No module named 'geopandas'",
     "output_type": "error",
     "traceback": [
      "\u001b[1;31m---------------------------------------------------------------------------\u001b[0m",
      "\u001b[1;31mModuleNotFoundError\u001b[0m                       Traceback (most recent call last)",
      "Cell \u001b[1;32mIn[1], line 6\u001b[0m\n\u001b[0;32m      4\u001b[0m \u001b[38;5;28;01mimport\u001b[39;00m \u001b[38;5;21;01mpandas\u001b[39;00m \u001b[38;5;28;01mas\u001b[39;00m \u001b[38;5;21;01mpd\u001b[39;00m\n\u001b[0;32m      5\u001b[0m \u001b[38;5;28;01mimport\u001b[39;00m \u001b[38;5;21;01mmatplotlib\u001b[39;00m\u001b[38;5;21;01m.\u001b[39;00m\u001b[38;5;21;01mpyplot\u001b[39;00m \u001b[38;5;28;01mas\u001b[39;00m \u001b[38;5;21;01mplt\u001b[39;00m\n\u001b[1;32m----> 6\u001b[0m \u001b[38;5;28;01mimport\u001b[39;00m \u001b[38;5;21;01mgeopandas\u001b[39;00m \u001b[38;5;28;01mas\u001b[39;00m \u001b[38;5;21;01mgp\u001b[39;00m\n\u001b[0;32m      8\u001b[0m \u001b[38;5;28;01mfrom\u001b[39;00m \u001b[38;5;21;01msklearn\u001b[39;00m \u001b[38;5;28;01mimport\u001b[39;00m metrics\n\u001b[0;32m      9\u001b[0m \u001b[38;5;28;01mfrom\u001b[39;00m \u001b[38;5;21;01msklearn\u001b[39;00m \u001b[38;5;28;01mimport\u001b[39;00m preprocessing\n",
      "\u001b[1;31mModuleNotFoundError\u001b[0m: No module named 'geopandas'"
     ]
    }
   ],
   "source": [
    "%matplotlib inline\n",
    "import os\n",
    "import numpy as np\n",
    "import pandas as pd\n",
    "import matplotlib.pyplot as plt\n",
    "\n",
    "from sklearn import metrics\n",
    "from sklearn import preprocessing\n",
    "from sklearn.linear_model import LinearRegression\n",
    "from sklearn.model_selection import train_test_split\n",
    "from sklearn.svm import SVR\n",
    "from sklearn.preprocessing import MinMaxScaler\n"
   ]
  },
  {
   "cell_type": "code",
   "execution_count": null,
   "id": "11681c25",
   "metadata": {},
   "outputs": [],
   "source": [
    "url = os.path.join(\"TSLA.csv\")\n",
    "df = pd.read_csv(url, sep=\",\")\n",
    "df.head()"
   ]
  },
  {
   "cell_type": "code",
   "execution_count": null,
   "id": "b4bdd193",
   "metadata": {},
   "outputs": [],
   "source": [
    "# Create a new feature \"Day\" that will be number of days after \n",
    "# the first day in the dataset\n",
    "\n",
    "#Converting date to unix time\n",
    "df['Date'] = pd.to_datetime(df['Date'], format=\"%Y-%m-%d\").map(pd.Timestamp.timestamp).astype(int)\n",
    "#Gets the first day to get days from the start\n",
    "first_day = df['Date'][0]\n",
    "#Date - (first_date) then converting seconds to days (60 seconds in a minute * 60 minutes in a hour * 24 hours in  a day )\n",
    "df['Day'] = (df['Date'] - 1666742400) // (60*60*24)"
   ]
  },
  {
   "cell_type": "code",
   "execution_count": null,
   "id": "3acdcda3",
   "metadata": {},
   "outputs": [],
   "source": [
    "#Shows correlation between the different values\n",
    "corrMatrix = df.corr()\n",
    "#Same but in a matrix\n",
    "corrMatrix.style.background_gradient(cmap='coolwarm')"
   ]
  },
  {
   "cell_type": "markdown",
   "id": "4560b9b7",
   "metadata": {},
   "source": [
    "# Training\n",
    "\n",
    "We are dealing with continuous data, so we will use a regression algorithm."
   ]
  },
  {
   "cell_type": "code",
   "execution_count": null,
   "id": "15928b44",
   "metadata": {
    "scrolled": true
   },
   "outputs": [],
   "source": [
    "# Input will be day and the output will be the close price.\n",
    "X = pd.DataFrame(df[\"Day\"])\n",
    "y = pd.DataFrame(df[\"Close\"])\n",
    "\n",
    "# Scaling date and close price with a MinMax (between 0 and 1)\n",
    "sc_X = MinMaxScaler()\n",
    "sc_y = MinMaxScaler()\n",
    "X = sc_X.fit_transform(np.array(X))\n",
    "y = sc_y.fit_transform(np.array(y))\n",
    "\n",
    "# Dividing between a training and testing set. Test_size means that we are using 67% \n",
    "# of the dataset to training and 33% to the test set.\n",
    "X_train, X_test, y_train, y_test = train_test_split(X, y, test_size=0.33,random_state=42)\n",
    "\n",
    "# With train_test_split the data was shuffled. That means our data (days) are out of order.\n",
    "# We sort the dates, and use zip to also sort the y-values. \n",
    "X_train,y_train = zip(*sorted(zip(X_train,y_train)))\n",
    "X_train = np.asarray(X_train)\n",
    "y_train = np.asarray(y_train)\n",
    "\n",
    "# Do the same for test set\n",
    "X_test,y_test = zip(*sorted(zip(X_test,y_test)))\n",
    "X_test = np.asarray(X_test)\n",
    "y_test = np.asarray(y_test)\n",
    "\n",
    "# We try to create a model with linear regression first, we can clearly see that this \n",
    "# does not fit the data set very well.\n",
    "linear_regressor = LinearRegression()\n",
    "LinearRegression()  # create object for the class\n",
    "linear_regressor.fit(X_train, y_train)  # perform linear regression\n",
    "Y_pred = linear_regressor.predict(X_train)  # make predictions\n",
    "\n",
    "# Plotting the actual data, with the prediction line.\n",
    "plt.scatter(X_train, y_train, color = 'magenta')\n",
    "plt.plot(X_train, Y_pred, color = 'green')\n",
    "plt.show()"
   ]
  },
  {
   "cell_type": "code",
   "execution_count": null,
   "id": "8de98bdb",
   "metadata": {},
   "outputs": [],
   "source": [
    "# We will use a polynomial function instead. \n",
    "# This fits much more to what the dataset represents.\n",
    "regressor = SVR(kernel='rbf')\n",
    "regressor.fit(X_train,y_train.ravel())\n",
    "Y_pred = regressor.predict(X_train)"
   ]
  },
  {
   "cell_type": "code",
   "execution_count": null,
   "id": "06c4dca7",
   "metadata": {},
   "outputs": [],
   "source": [
    "# Inverse the scale\n",
    "X_train = sc_X.inverse_transform(np.array(X_train))\n",
    "y_train = sc_y.inverse_transform(np.array(y_train))\n",
    "Y_pred = np.reshape(Y_pred, (-1,1))\n",
    "Y_pred = sc_y.inverse_transform(np.array(Y_pred))\n",
    "# Plot actual data, with the prediction line.\n",
    "plt.scatter(X_train,y_train,color = 'magenta')\n",
    "plt.plot(X_train,Y_pred, color = 'green')\n",
    "\n",
    "print( \"MSE = \"+str(metrics.mean_squared_error(y_train,Y_pred))) #Calculate MSE"
   ]
  },
  {
   "cell_type": "code",
   "execution_count": null,
   "id": "fe98583c",
   "metadata": {},
   "outputs": [],
   "source": [
    "#Prediciton with scaled values\n",
    "Y_pred = regressor.predict(X_test)  # Predict the model on X_test\n",
    "\n",
    "# Inverse scale of test data\n",
    "X_test = sc_X.inverse_transform(np.array(X_test))\n",
    "y_test = sc_y.inverse_transform(np.array(y_test))\n",
    "Y_pred = np.reshape(Y_pred, (-1,1))\n",
    "Y_pred = sc_y.inverse_transform(np.array(Y_pred))\n",
    "\n",
    "# Plot\n",
    "plt.scatter(X_test, y_test, color = 'magenta')\n",
    "plt.plot(X_test, Y_pred, color = 'green')\n",
    "plt.show()\n",
    "\n",
    "print( \"MSE = \"+str(metrics.mean_squared_error(y_test,Y_pred))) #Calculate MSE"
   ]
  },
  {
   "cell_type": "code",
   "execution_count": null,
   "id": "3ffa949e",
   "metadata": {},
   "outputs": [],
   "source": [
    "def inverse_scaled_y(price):\n",
    "    _min = df[\"Close\"].min()\n",
    "    _max = df[\"Close\"].max()\n",
    "    return price * (_max-_min) + _min\n",
    "\n",
    "# my_predict_date takes in a date as a string. \n",
    "# outputs predicted stock price\n",
    "def my_predict_date(date):\n",
    "    # Start day ( from the dataset )\n",
    "    start_day = pd.to_datetime(\"2022-10-26\", format=\"%Y-%m-%d\").timestamp()\n",
    "    # Convert date to unixtime.\n",
    "    now = pd.to_datetime(date, format=\"%Y-%m-%d\").timestamp()\n",
    "    delta_days = (now-start_day) / (24*60*60)\n",
    "    # predict function will expect a scaled value. ( range 0,1)\n",
    "    # scaled value is: delta_days/365\n",
    "    scaled_close = regressor.predict(np.array([[delta_days / 365]]))\n",
    "    # Inverse the the scaled_close value before return\n",
    "    return inverse_scaled_y(scaled_close)\n",
    "\n",
    "# my_predict_days takes the day number after the first day that will be predicted. \n",
    "# outputs predicted stock price\n",
    "def my_predict_day(day):\n",
    "    scaled_close = regressor.predict(np.array([[day / 365]]))\n",
    "    # Inverse the the scaled_close value before return\n",
    "    return inverse_scaled_y(scaled_close)\n",
    "    "
   ]
  },
  {
   "cell_type": "code",
   "execution_count": null,
   "id": "453f8283",
   "metadata": {},
   "outputs": [],
   "source": [
    "# The functions can be used like this:\n",
    "# Predict stock price at specific date:\n",
    "print(my_predict_date(\"2023-10-31\"))\n",
    "print(my_predict_day(370))"
   ]
  },
  {
   "cell_type": "code",
   "execution_count": null,
   "id": "bfbe770a",
   "metadata": {},
   "outputs": [],
   "source": [
    "# Plot the prediction line for one year after our dataset.\n",
    "\n",
    "\n",
    "#Makes two arrays, one for future days and another for prices\n",
    "future_days = []\n",
    "future_price = []\n",
    "#For loop that adds our predicted prices for the next year\n",
    "for i in range(365,365*2):\n",
    "    future_days.append(i)\n",
    "    future_price.append(my_predict_day(i))\n",
    "\n",
    "#plot the next year of predictions\n",
    "plt.plot(np.array(future_days), np.array(future_price), color = 'green')\n",
    "\n",
    "plt.show()"
   ]
  },
  {
   "cell_type": "code",
   "execution_count": null,
   "id": "2810c69a",
   "metadata": {},
   "outputs": [],
   "source": []
  }
 ],
 "metadata": {
  "kernelspec": {
   "display_name": "Python 3 (ipykernel)",
   "language": "python",
   "name": "python3"
  },
  "language_info": {
   "codemirror_mode": {
    "name": "ipython",
    "version": 3
   },
   "file_extension": ".py",
   "mimetype": "text/x-python",
   "name": "python",
   "nbconvert_exporter": "python",
   "pygments_lexer": "ipython3",
   "version": "3.11.4"
  }
 },
 "nbformat": 4,
 "nbformat_minor": 5
}
